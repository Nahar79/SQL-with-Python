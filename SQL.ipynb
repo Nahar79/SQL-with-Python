{
 "cells": [
  {
   "cell_type": "code",
   "execution_count": 1,
   "metadata": {},
   "outputs": [],
   "source": [
    "import sqlite3"
   ]
  },
  {
   "cell_type": "code",
   "execution_count": 2,
   "metadata": {},
   "outputs": [
    {
     "name": "stdout",
     "output_type": "stream",
     "text": [
      "<sqlite3.Connection object at 0x0000012F0E34C940>\n"
     ]
    }
   ],
   "source": [
    "conn = sqlite3.connect('test.sqlite3')\n",
    "print(conn)\n",
    "conn.close()"
   ]
  },
  {
   "cell_type": "markdown",
   "metadata": {},
   "source": [
    "## Creat Table"
   ]
  },
  {
   "cell_type": "code",
   "execution_count": 4,
   "metadata": {},
   "outputs": [],
   "source": [
    "with sqlite3.connect('test.sqlite3') as conn:\n",
    "    cursor = conn.cursor()\n",
    "    cursor.execute(\n",
    "        \"\"\" create table student(roll INT, name TEXT, age INT)\"\"\"\n",
    "    )\n",
    "    conn.commit()"
   ]
  },
  {
   "cell_type": "markdown",
   "metadata": {},
   "source": [
    "## INSERT"
   ]
  },
  {
   "cell_type": "code",
   "execution_count": 5,
   "metadata": {},
   "outputs": [],
   "source": [
    "with sqlite3.connect('test.sqlite3') as conn:\n",
    "    cursor = conn.cursor()\n",
    "    cursor.execute(\n",
    "        \"\"\" INSERT INTO student VALUES(?, ?, ?)\"\"\",(101,\"Tessa Jhon\", 24)\n",
    "    )\n",
    "    conn.commit()"
   ]
  },
  {
   "cell_type": "markdown",
   "metadata": {},
   "source": [
    "## SELECT"
   ]
  },
  {
   "cell_type": "code",
   "execution_count": 10,
   "metadata": {},
   "outputs": [
    {
     "name": "stdout",
     "output_type": "stream",
     "text": [
      "[(101, 'Tessa Jhon', 24), (102, 'Muasa Fhon', 27), (103, 'Harding Scott', 29), (104, 'Green Stabb', 31), (105, 'Alexa Smith', 27), (106, 'Alley Peri', 29), (107, 'Grish Johnson', 31)]\n"
     ]
    }
   ],
   "source": [
    "with sqlite3.connect('test.sqlite3') as conn:\n",
    "    cursor = conn.cursor()\n",
    "    result = cursor.execute(\n",
    "        \"\"\" SELECT * FROM student \"\"\"\n",
    "    )\n",
    "    print(list(result))"
   ]
  },
  {
   "cell_type": "code",
   "execution_count": 9,
   "metadata": {},
   "outputs": [],
   "source": [
    "user = [\n",
    "    (102,\"Muasa Fhon\", 27),\n",
    "    (103,\"Harding Scott\", 29),\n",
    "    (104,\"Green Stabb\", 31),\n",
    "    (105,\"Alexa Smith\", 27),\n",
    "    (106,\"Alley Peri\", 29),\n",
    "    (107,\"Grish Johnson\", 31),\n",
    "]\n",
    "with sqlite3.connect('test.sqlite3') as conn:\n",
    "    cursor = conn.cursor()\n",
    "    cursor.executemany(\n",
    "        \"\"\" INSERT INTO student VALUES(?, ?, ?)\"\"\", user\n",
    "    )\n",
    "    conn.commit()"
   ]
  },
  {
   "cell_type": "code",
   "execution_count": 15,
   "metadata": {},
   "outputs": [
    {
     "name": "stdout",
     "output_type": "stream",
     "text": [
      "[101, 'Tessa Jhon', 24]\n"
     ]
    }
   ],
   "source": [
    "with sqlite3.connect('test.sqlite3') as conn:\n",
    "    cursor = conn.cursor()\n",
    "    result = cursor.execute(\n",
    "        \"\"\" SELECT * FROM student \"\"\"\n",
    "    )\n",
    "    print(list(result.fetchone()))"
   ]
  },
  {
   "cell_type": "code",
   "execution_count": 18,
   "metadata": {},
   "outputs": [
    {
     "name": "stdout",
     "output_type": "stream",
     "text": [
      "[(101, 'Tessa Jhon', 24), (102, 'Muasa Fhon', 27), (103, 'Harding Scott', 29), (104, 'Green Stabb', 31), (105, 'Alexa Smith', 27), (106, 'Alley Peri', 29), (107, 'Grish Johnson', 31)]\n"
     ]
    }
   ],
   "source": [
    "with sqlite3.connect('test.sqlite3') as conn:\n",
    "    cursor = conn.cursor()\n",
    "    result = cursor.execute(\n",
    "        \"\"\" SELECT * FROM student \"\"\"\n",
    "    )\n",
    "    print(list(result.fetchall()))"
   ]
  },
  {
   "cell_type": "markdown",
   "metadata": {},
   "source": [
    "## Filtering"
   ]
  },
  {
   "cell_type": "code",
   "execution_count": 19,
   "metadata": {},
   "outputs": [
    {
     "name": "stdout",
     "output_type": "stream",
     "text": [
      "[(101, 'Tessa Jhon'), (102, 'Muasa Fhon')]\n"
     ]
    }
   ],
   "source": [
    "with sqlite3.connect('test.sqlite3') as conn:\n",
    "    cursor = conn.cursor()\n",
    "    result = cursor.execute(\n",
    "        \"\"\" SELECT roll, name FROM student \"\"\"\n",
    "    )\n",
    "    print(list(result.fetchmany(2)))"
   ]
  },
  {
   "cell_type": "markdown",
   "metadata": {},
   "source": [
    "## WHERE CLAUSE"
   ]
  },
  {
   "cell_type": "code",
   "execution_count": 30,
   "metadata": {},
   "outputs": [
    {
     "name": "stdout",
     "output_type": "stream",
     "text": [
      "[(103, 'Harding Scott', 29), (104, 'Green Stabb', 31), (106, 'Alley Peri', 29), (107, 'Grish Johnson', 31)]\n"
     ]
    }
   ],
   "source": [
    "with sqlite3.connect('test.sqlite3') as conn:\n",
    "    cursor = conn.cursor()\n",
    "    result = cursor.execute(\n",
    "        \"\"\" SELECT * FROM student WHERE age> ? \"\"\", (27,)\n",
    "    )\n",
    "    print(list(result))"
   ]
  },
  {
   "cell_type": "code",
   "execution_count": 37,
   "metadata": {},
   "outputs": [
    {
     "name": "stdout",
     "output_type": "stream",
     "text": [
      "[(101, 'Tessa Jhon', 24), (102, 'Muasa Fhon', 27), (105, 'Alexa Smith', 27)]\n"
     ]
    }
   ],
   "source": [
    "with sqlite3.connect('test.sqlite3') as conn:\n",
    "    cursor = conn.cursor()\n",
    "    result = cursor.execute(\n",
    "        \"\"\" SELECT roll, name, age FROM student WHERE age< ? \"\"\", (29,)\n",
    "    )\n",
    "    print(list(result))"
   ]
  },
  {
   "cell_type": "markdown",
   "metadata": {},
   "source": [
    "## AND, IN, OR, NOT"
   ]
  },
  {
   "cell_type": "code",
   "execution_count": 44,
   "metadata": {},
   "outputs": [
    {
     "name": "stdout",
     "output_type": "stream",
     "text": [
      "[(102, 'Muasa Fhon', 27), (105, 'Alexa Smith', 27)]\n"
     ]
    }
   ],
   "source": [
    "with sqlite3.connect('test.sqlite3') as conn:\n",
    "    cursor = conn.cursor()\n",
    "    result = cursor.execute(\n",
    "        \"\"\" SELECT roll, name, age FROM student WHERE age > ? and age< ? \"\"\", (24, 29)\n",
    "    )\n",
    "    print(list(result))"
   ]
  },
  {
   "cell_type": "code",
   "execution_count": 47,
   "metadata": {},
   "outputs": [
    {
     "name": "stdout",
     "output_type": "stream",
     "text": [
      "[(101, 'Tessa Jhon', 24)]\n"
     ]
    }
   ],
   "source": [
    "with sqlite3.connect('test.sqlite3') as conn:\n",
    "    cursor = conn.cursor()\n",
    "    result = cursor.execute(\n",
    "        \"\"\" SELECT roll, name, age FROM student WHERE NOT age >? \"\"\", (25,)\n",
    "    )\n",
    "    print(list(result))"
   ]
  },
  {
   "cell_type": "code",
   "execution_count": 48,
   "metadata": {},
   "outputs": [
    {
     "name": "stdout",
     "output_type": "stream",
     "text": [
      "[(101, 'Tessa Jhon', 24), (102, 'Muasa Fhon', 27), (105, 'Alexa Smith', 27)]\n"
     ]
    }
   ],
   "source": [
    "with sqlite3.connect('test.sqlite3') as conn:\n",
    "    cursor = conn.cursor()\n",
    "    result = cursor.execute(\n",
    "        \"\"\" SELECT roll, name, age FROM student WHERE age IN (?,?,?)  \"\"\", (24,27,28)\n",
    "    )\n",
    "    print(list(result))"
   ]
  },
  {
   "cell_type": "code",
   "execution_count": 50,
   "metadata": {},
   "outputs": [
    {
     "name": "stdout",
     "output_type": "stream",
     "text": [
      "[(105, 'Alexa Smith', 27), (106, 'Alley Peri', 29)]\n"
     ]
    }
   ],
   "source": [
    "with sqlite3.connect('test.sqlite3') as conn:\n",
    "    cursor = conn.cursor()\n",
    "    result = cursor.execute(\n",
    "        \"\"\" SELECT roll, name, age FROM student WHERE name LIKE 'a%' \"\"\", \n",
    "    )\n",
    "    print(list(result))"
   ]
  },
  {
   "cell_type": "code",
   "execution_count": 52,
   "metadata": {},
   "outputs": [
    {
     "name": "stdout",
     "output_type": "stream",
     "text": [
      "[(101, 'Tessa Jhon', 24), (102, 'Muasa Fhon', 27), (103, 'Harding Scott', 29), (104, 'Green Stabb', 31), (105, 'Alexa Smith', 27), (106, 'Alley Peri', 29)]\n"
     ]
    }
   ],
   "source": [
    "with sqlite3.connect('test.sqlite3') as conn:\n",
    "    cursor = conn.cursor()\n",
    "    result = cursor.execute(\n",
    "        \"\"\"  SELECT roll, name, age FROM student WHERE name LIKE '%a%' \"\"\", \n",
    "    )\n",
    "    print(list(result))"
   ]
  },
  {
   "cell_type": "code",
   "execution_count": 53,
   "metadata": {},
   "outputs": [
    {
     "name": "stdout",
     "output_type": "stream",
     "text": [
      "[(105, 'Alexa Smith', 27), (106, 'Alley Peri', 29)]\n"
     ]
    }
   ],
   "source": [
    "with sqlite3.connect('test.sqlite3') as conn:\n",
    "    cursor = conn.cursor()\n",
    "    result = cursor.execute(\n",
    "        \"\"\"  SELECT roll, name, age FROM student WHERE name LIKE '_l%' \"\"\", \n",
    "    )\n",
    "    print(list(result))"
   ]
  },
  {
   "cell_type": "markdown",
   "metadata": {},
   "source": [
    "## Aggregate Function "
   ]
  },
  {
   "cell_type": "code",
   "execution_count": 57,
   "metadata": {},
   "outputs": [
    {
     "name": "stdout",
     "output_type": "stream",
     "text": [
      "[(31, 28.285714285714285, 198, 7)]\n"
     ]
    }
   ],
   "source": [
    "with sqlite3.connect('test.sqlite3') as conn:\n",
    "    cursor = conn.cursor()\n",
    "    result = cursor.execute(\n",
    "        \"\"\"  SELECT MAX(age), AVG(age), SUM(age), COUNT(*) FROM student \"\"\", \n",
    "    )\n",
    "    print(list(result))"
   ]
  },
  {
   "cell_type": "markdown",
   "metadata": {},
   "source": [
    "## GROUP BY "
   ]
  },
  {
   "cell_type": "code",
   "execution_count": 61,
   "metadata": {},
   "outputs": [
    {
     "name": "stdout",
     "output_type": "stream",
     "text": [
      "[(1,), (2,), (2,), (2,)]\n"
     ]
    }
   ],
   "source": [
    "with sqlite3.connect('test.sqlite3') as conn:\n",
    "    cursor = conn.cursor()\n",
    "    result = cursor.execute(\n",
    "        \"\"\"  SELECT  count(age) FROM student GROUP BY age \"\"\", \n",
    "    )\n",
    "    print(list(result))"
   ]
  },
  {
   "cell_type": "code",
   "execution_count": 65,
   "metadata": {},
   "outputs": [
    {
     "name": "stdout",
     "output_type": "stream",
     "text": [
      "104 Green Stabb 31\n",
      "107 Grish Johnson 31\n",
      "103 Harding Scott 29\n",
      "106 Alley Peri 29\n",
      "102 Muasa Fhon 27\n",
      "105 Alexa Smith 27\n",
      "101 Tessa Jhon 24\n"
     ]
    }
   ],
   "source": [
    "with sqlite3.connect('test.sqlite3') as conn:\n",
    "    cursor = conn.cursor()\n",
    "    result = cursor.execute(\n",
    "        \"\"\"  SELECT * FROM student ORDER BY age DESC\"\"\", \n",
    "    )\n",
    "    for roll, name, age in result:\n",
    "        print(roll,name,age)"
   ]
  },
  {
   "cell_type": "markdown",
   "metadata": {},
   "source": [
    "## Updating Data"
   ]
  },
  {
   "cell_type": "code",
   "execution_count": 68,
   "metadata": {},
   "outputs": [
    {
     "name": "stdout",
     "output_type": "stream",
     "text": [
      "101 Tessa Jhon 26\n",
      "102 Muasa Fhon 27\n",
      "105 Alexa Smith 27\n",
      "103 Harding Scott 29\n",
      "106 Alley Peri 29\n",
      "104 Green Stabb 31\n",
      "107 Grish Johnson 31\n"
     ]
    }
   ],
   "source": [
    "with sqlite3.connect('test.sqlite3') as conn:\n",
    "    cursor = conn.cursor()\n",
    "    cursor.execute(\n",
    "        \"\"\" UPDATE student SET age =? WHERE roll = ? \"\"\", (26,101)\n",
    "    )\n",
    "\n",
    "    result = cursor.execute(\n",
    "        \"\"\"  SELECT * FROM student ORDER BY age \"\"\", \n",
    "    )\n",
    "    for roll, name, age in result:\n",
    "        print(roll,name,age)"
   ]
  },
  {
   "cell_type": "markdown",
   "metadata": {},
   "source": [
    "## DELETE"
   ]
  },
  {
   "cell_type": "code",
   "execution_count": 70,
   "metadata": {},
   "outputs": [
    {
     "name": "stdout",
     "output_type": "stream",
     "text": [
      "102 Muasa Fhon 27\n",
      "105 Alexa Smith 27\n",
      "103 Harding Scott 29\n",
      "106 Alley Peri 29\n",
      "104 Green Stabb 31\n",
      "107 Grish Johnson 31\n"
     ]
    }
   ],
   "source": [
    "with sqlite3.connect('test.sqlite3') as conn:\n",
    "    cursor = conn.cursor()\n",
    "    cursor.execute(\n",
    "        \"\"\" DELETE from student WHERE roll = ? \"\"\", (101,)\n",
    "    )\n",
    "\n",
    "    result = cursor.execute(\n",
    "        \"\"\"  SELECT * FROM student ORDER BY age \"\"\", \n",
    "    )\n",
    "    for roll, name, age in result:\n",
    "        print(roll,name,age)"
   ]
  },
  {
   "cell_type": "markdown",
   "metadata": {},
   "source": [
    "## DROP TABLE"
   ]
  },
  {
   "cell_type": "code",
   "execution_count": 72,
   "metadata": {},
   "outputs": [
    {
     "name": "stdout",
     "output_type": "stream",
     "text": [
      "102 Muasa Fhon\n",
      "105 Alexa Smith\n",
      "103 Harding Scott\n",
      "106 Alley Peri\n",
      "104 Green Stabb\n",
      "107 Grish Johnson\n"
     ]
    }
   ],
   "source": [
    "with sqlite3.connect('test.sqlite3') as conn:\n",
    "    cursor = conn.cursor()\n",
    "   # cursor.execute(\n",
    "       # \"\"\" DROP TABLE student \"\"\",       \n",
    "    #)\n",
    "\n",
    "    result = cursor.execute(\n",
    "        \"\"\"  SELECT * FROM student ORDER BY age \"\"\", \n",
    "    )\n",
    "    for roll, name, age in result:\n",
    "        print(roll,name,)"
   ]
  }
 ],
 "metadata": {
  "kernelspec": {
   "display_name": "Python 3.10.7 64-bit",
   "language": "python",
   "name": "python3"
  },
  "language_info": {
   "codemirror_mode": {
    "name": "ipython",
    "version": 3
   },
   "file_extension": ".py",
   "mimetype": "text/x-python",
   "name": "python",
   "nbconvert_exporter": "python",
   "pygments_lexer": "ipython3",
   "version": "3.10.7"
  },
  "orig_nbformat": 4,
  "vscode": {
   "interpreter": {
    "hash": "c19fa61d258bb2b35aae2ada233c33e2817c1ce895aa48acba720c6bf7cbe3cb"
   }
  }
 },
 "nbformat": 4,
 "nbformat_minor": 2
}
